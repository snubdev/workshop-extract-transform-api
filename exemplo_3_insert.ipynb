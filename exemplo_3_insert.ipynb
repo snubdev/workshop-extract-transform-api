{
 "cells": [
  {
   "cell_type": "code",
   "execution_count": null,
   "id": "902a121f-cda5-40bc-bd4d-06ad463a02e3",
   "metadata": {},
   "outputs": [],
   "source": [
    "import requests\n",
    "import pandas as pd\n",
    "import datetime\n",
    "from psycopg2.extras import execute_values\n",
    "from db import get_db_config"
   ]
  },
  {
   "cell_type": "code",
   "execution_count": null,
   "id": "af7198eb-6840-43ff-8e7b-bf045e4cb3ee",
   "metadata": {},
   "outputs": [],
   "source": [
    " -----------------------------\r",
    "# Configuração da tabela SQL\n",
    "# ----------------------------\r\n",
    "# CREATE TABLE dados_api(\r\n",
    "#     cidade VARCHAR(100) NOT NUL,\r\n",
    "#     bairro VARCHAR(100) NOT NLL,\r\n",
    "#     cep VARCHAR(9) NOT ULL,\r\n",
    "#     data_registro DATE NO NULL\r\n",
    "# );\r\n"
   ]
  },
  {
   "cell_type": "code",
   "execution_count": 3,
   "id": "5d7b5512-a4e2-4e18-b816-98c0e302c0e1",
   "metadata": {},
   "outputs": [],
   "source": [
    "url = 'https://viacep.com.br/ws/BA/Feira de Santana/SIM/json/'"
   ]
  },
  {
   "cell_type": "code",
   "execution_count": 7,
   "id": "43b54fe4-8fc2-44aa-86a1-172b55c5b3ef",
   "metadata": {},
   "outputs": [
    {
     "ename": "NameError",
     "evalue": "name 'requests' is not defined",
     "output_type": "error",
     "traceback": [
      "\u001b[1;31m---------------------------------------------------------------------------\u001b[0m",
      "\u001b[1;31mNameError\u001b[0m                                 Traceback (most recent call last)",
      "Cell \u001b[1;32mIn[7], line 1\u001b[0m\n\u001b[1;32m----> 1\u001b[0m response \u001b[38;5;241m=\u001b[39m requests\u001b[38;5;241m.\u001b[39mget(url)\n",
      "\u001b[1;31mNameError\u001b[0m: name 'requests' is not defined"
     ]
    }
   ],
   "source": [
    "response = requests.get(url)"
   ]
  },
  {
   "cell_type": "markdown",
   "id": "f170fcdf-8011-4357-a3d6-fcda210dcf44",
   "metadata": {},
   "source": [
    "### Transformando o JSON retornado em DataFrame"
   ]
  },
  {
   "cell_type": "code",
   "execution_count": null,
   "id": "b683418e-fd36-44c7-8c50-ee7a84c5a4ee",
   "metadata": {},
   "outputs": [],
   "source": [
    "df = pd.DataFrame(response.json())"
   ]
  },
  {
   "cell_type": "markdown",
   "id": "5ae08150-dcb6-4e9d-8e7a-cefbf6d70f3e",
   "metadata": {},
   "source": [
    "### Removendo colunas desnecessárias"
   ]
  },
  {
   "cell_type": "code",
   "execution_count": null,
   "id": "b7d8592b-4940-4fac-a182-c458dbb95c0d",
   "metadata": {},
   "outputs": [],
   "source": [
    "df = df.drop(columns=['complemento', 'unidade','estado','ibge', 'gia', 'ddd', 'siafi', 'uf', 'regiao', 'logradouro'])"
   ]
  },
  {
   "cell_type": "markdown",
   "id": "80ac3aa7-9d69-4206-9dc3-74920e80386e",
   "metadata": {},
   "source": [
    "### Adicionando coluna com a data e hora da coleta"
   ]
  },
  {
   "cell_type": "code",
   "execution_count": null,
   "id": "e4ac22fc-65b4-46a1-a05d-ca2be5509b81",
   "metadata": {},
   "outputs": [],
   "source": [
    "df['data_registro'] = datetime.datetime.now()"
   ]
  },
  {
   "cell_type": "markdown",
   "id": "1f203cd8-9952-4782-b643-d986ba26f0ee",
   "metadata": {},
   "source": [
    "### Convertendo nome da cidade para maiúsculo"
   ]
  },
  {
   "cell_type": "code",
   "execution_count": null,
   "id": "850a2379-d996-4d6f-b992-056f5cfcd25b",
   "metadata": {},
   "outputs": [],
   "source": [
    "df['localidade'] = df['localidade'].str.upper()"
   ]
  },
  {
   "cell_type": "markdown",
   "id": "1212ba7a-d6e0-4d9d-bb4f-8de88075a04b",
   "metadata": {},
   "source": [
    "### Reorganizando colunas para manter ordem desejada"
   ]
  },
  {
   "cell_type": "code",
   "execution_count": null,
   "id": "575019a0-1565-4c00-b461-dc481924486b",
   "metadata": {},
   "outputs": [],
   "source": [
    "df = df.reindex(columns=['localidade', 'bairro', 'cep', 'data_registro'])"
   ]
  },
  {
   "cell_type": "markdown",
   "id": "4e1e70b7-d6ba-41d3-9d0d-475f1693deb0",
   "metadata": {},
   "source": [
    "### Exibindo o DataFrame final"
   ]
  },
  {
   "cell_type": "code",
   "execution_count": null,
   "id": "61e3b4ec-f6e9-4c83-80bb-dfb2d54b4cad",
   "metadata": {},
   "outputs": [],
   "source": [
    "print(\"DataFrame preparado para inserção no banco:\")\n",
    "print(df)"
   ]
  },
  {
   "cell_type": "markdown",
   "id": "36224f20-7b5b-4435-812b-2faba2b9aae1",
   "metadata": {},
   "source": [
    "### Convertendo DataFrame em lista de tuplas"
   ]
  },
  {
   "cell_type": "code",
   "execution_count": null,
   "id": "2b518c55-5a0c-4ecf-b7da-d5d98ce428d0",
   "metadata": {},
   "outputs": [],
   "source": [
    "list_df = df.to_records(index=False).tolist()"
   ]
  },
  {
   "cell_type": "markdown",
   "id": "d347185b-131c-45ac-8072-1baa9de9a5c5",
   "metadata": {},
   "source": [
    "### Exibindo a lista de tuplas"
   ]
  },
  {
   "cell_type": "code",
   "execution_count": null,
   "id": "1a5bec83-6283-4fa8-9b17-245f788074c9",
   "metadata": {},
   "outputs": [],
   "source": [
    "print(list_df)"
   ]
  },
  {
   "cell_type": "markdown",
   "id": "caf22fab-bf7f-4900-9ccb-a17efe838cd4",
   "metadata": {},
   "source": [
    "### Conectando ao banco"
   ]
  },
  {
   "cell_type": "code",
   "execution_count": null,
   "id": "6b066b25-1daf-44ef-b4c2-f4d894906ba1",
   "metadata": {},
   "outputs": [],
   "source": [
    "con = get_db_config()\n",
    "cur = con.cursor()"
   ]
  },
  {
   "cell_type": "markdown",
   "id": "935bed5e-d3ac-444f-aef3-a9a27e13f547",
   "metadata": {},
   "source": [
    "### Inserido os dados na tabela do banco"
   ]
  },
  {
   "cell_type": "code",
   "execution_count": null,
   "id": "cbcfc67d-d11f-4466-a76a-2ad6ed6b93b2",
   "metadata": {},
   "outputs": [],
   "source": [
    "try:\n",
    "    query = '''\n",
    "    INSERT INTO dados_api (cidade, bairro, cep, data_registro)\n",
    "    VALUES %s\n",
    "    '''\n",
    "\n",
    "    # Insere os dados vários registros de uma vez\n",
    "    execute_values(cur, query, list_df)\n",
    "\n",
    "    # Confirmando transação\n",
    "    con.commit()\n",
    "\n",
    "    print('Dados inseridos com sucesso!')\n",
    "\n",
    "    # Fechando cursor e conexão\n",
    "    cur.close()\n",
    "    con.close()\n",
    "\n",
    "except Exception as e:\n",
    "    print(e)"
   ]
  },
  {
   "cell_type": "code",
   "execution_count": null,
   "id": "604064eb-21a5-42f7-b31f-56e127699abf",
   "metadata": {},
   "outputs": [],
   "source": [
    "# try:\r\n",
    "#     for i, d in df.iterrows():\r\n",
    "#         query = '''\r\n",
    "#         INSERT INTO dados_api (cidade, bairro, cep, data_registro)\r\n",
    "#         VALUES (%s, %s, %s, %s, %s)\r\n",
    "#         '''\r\n",
    "#\r\n",
    "#         # Insere os dados vários registros de uma vez\r\n",
    "#         execute_values(cur, (d['localidade'], d['bairro'], d['cep'], d['responsavel']))\r\n",
    "#\r\n",
    "#     # Confirmando transação\r\n",
    "#     con.commit()\r\n",
    "#     print('Dados inseridos com sucesso!')\r\n",
    "#\r\n",
    "#     # Fechando cursor e conexão\r\n",
    "#     cur.close()\r\n",
    "#     con.close()\r\n",
    "#\r\n",
    "# except Exception as e:\r\n",
    "#     print(e)"
   ]
  },
  {
   "cell_type": "code",
   "execution_count": null,
   "id": "222bef98-4490-49dd-8285-72264c64f2bf",
   "metadata": {},
   "outputs": [],
   "source": [
    "# try:\n",
    "#     select_query = '''\n",
    "#     SELECT cidade, bairro, cep, data_registro\n",
    "#     FROM dados_api\n",
    "#     ORDER BY data_registro DESC\n",
    "#     LIMIT 10;\n",
    "#     '''\n",
    "\n",
    "#     cur.execute(select_query)\n",
    "#     rows = cur.fetchall()\n",
    "\n",
    "#     # Transformando resultado em DataFrame para visualizar melhor\n",
    "#     df_select = pd.DataFrame(rows, columns=['cidade', 'bairro', 'cep', 'data_registro'])\n",
    "\n",
    "#     print(\"\\nÚltimos registros no banco:\")\n",
    "#     print(df_select)\n",
    "\n",
    "#     cur.close()\n",
    "#     con.close()\n",
    "\n",
    "# except Exception as e:\n",
    "#     print(\"Erro ao consultar dados:\", e)"
   ]
  }
 ],
 "metadata": {
  "kernelspec": {
   "display_name": "Python 3 (ipykernel)",
   "language": "python",
   "name": "python3"
  },
  "language_info": {
   "codemirror_mode": {
    "name": "ipython",
    "version": 3
   },
   "file_extension": ".py",
   "mimetype": "text/x-python",
   "name": "python",
   "nbconvert_exporter": "python",
   "pygments_lexer": "ipython3",
   "version": "3.12.4"
  }
 },
 "nbformat": 4,
 "nbformat_minor": 5
}
