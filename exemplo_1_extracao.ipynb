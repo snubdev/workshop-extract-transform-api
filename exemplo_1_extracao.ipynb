{
 "cells": [
  {
   "cell_type": "code",
   "execution_count": 1,
   "id": "11372a06-39db-4330-aaab-5bc5f7c3badf",
   "metadata": {},
   "outputs": [],
   "source": [
    "import requests"
   ]
  },
  {
   "cell_type": "code",
   "execution_count": 8,
   "id": "9106bcbf-a2cb-4798-8862-cfb9006bade2",
   "metadata": {},
   "outputs": [],
   "source": [
    "cep = '44085370'"
   ]
  },
  {
   "cell_type": "code",
   "execution_count": 10,
   "id": "e0da7087-5405-4ec4-9b6e-ba1f3e8dbfad",
   "metadata": {},
   "outputs": [],
   "source": [
    "url = f'https://viacep.com.br/ws/{cep}/json/'"
   ]
  },
  {
   "cell_type": "markdown",
   "id": "566d0a6f-c216-4a83-8d2a-2e3b67641c91",
   "metadata": {},
   "source": [
    "### Faz requisição GET para a API do ViaCEP"
   ]
  },
  {
   "cell_type": "code",
   "execution_count": 12,
   "id": "d2405d6d-1952-45fc-a31c-25a6139f4085",
   "metadata": {},
   "outputs": [],
   "source": [
    "response = requests.get(url)"
   ]
  },
  {
   "cell_type": "markdown",
   "id": "574b3e14-947a-471d-bc96-d492b50cea1e",
   "metadata": {},
   "source": [
    "### Exibe o status da requisição"
   ]
  },
  {
   "cell_type": "code",
   "execution_count": 14,
   "id": "564854a0-0cb8-44e7-b4b6-58107ac45bfd",
   "metadata": {},
   "outputs": [
    {
     "name": "stdout",
     "output_type": "stream",
     "text": [
      "<Response [200]>\n"
     ]
    }
   ],
   "source": [
    "print(response)"
   ]
  },
  {
   "cell_type": "markdown",
   "id": "1c514119-295d-4878-9dbf-c30561fa177a",
   "metadata": {},
   "source": [
    "### Transforma o contéudo JSON em um dicionário"
   ]
  },
  {
   "cell_type": "code",
   "execution_count": 17,
   "id": "f90db8d6-cf3a-4635-ab15-1a2e2af058d9",
   "metadata": {},
   "outputs": [],
   "source": [
    "data = response.json()"
   ]
  },
  {
   "cell_type": "markdown",
   "id": "cf3af79f-c26e-4656-9e5c-6a21de6c20ef",
   "metadata": {},
   "source": [
    "### Exibe no contéudo completo do dicionário"
   ]
  },
  {
   "cell_type": "code",
   "execution_count": 20,
   "id": "187cab9d-d5da-46c3-95b7-585a188db619",
   "metadata": {},
   "outputs": [
    {
     "name": "stdout",
     "output_type": "stream",
     "text": [
      "{'cep': '44085-370', 'logradouro': 'Avenida Artêmia Pires Freitas', 'complemento': 'até 10098 - lado par', 'unidade': '', 'bairro': 'SIM', 'localidade': 'Feira de Santana', 'uf': 'BA', 'estado': 'Bahia', 'regiao': 'Nordeste', 'ibge': '2910800', 'gia': '', 'ddd': '75', 'siafi': '3515'}\n"
     ]
    }
   ],
   "source": [
    "print(data)"
   ]
  },
  {
   "cell_type": "markdown",
   "id": "ba3f9e26-9c4a-4ecf-8b41-9bd86dd3b73a",
   "metadata": {},
   "source": [
    "### Exibe todas as chaves presentes no dicionário"
   ]
  },
  {
   "cell_type": "code",
   "execution_count": 23,
   "id": "3ee1477c-6854-4930-81ff-0cabf443c2fe",
   "metadata": {},
   "outputs": [
    {
     "name": "stdout",
     "output_type": "stream",
     "text": [
      "dict_keys(['cep', 'logradouro', 'complemento', 'unidade', 'bairro', 'localidade', 'uf', 'estado', 'regiao', 'ibge', 'gia', 'ddd', 'siafi'])\n"
     ]
    }
   ],
   "source": [
    "print(data.keys())"
   ]
  },
  {
   "cell_type": "markdown",
   "id": "b6079779-7194-4e24-a6c2-8715d22d6f1d",
   "metadata": {},
   "source": [
    "### Exibe todos os valores presentes no dicionário"
   ]
  },
  {
   "cell_type": "code",
   "execution_count": 26,
   "id": "23666991-fdb2-4d55-8f11-af010216509b",
   "metadata": {},
   "outputs": [
    {
     "name": "stdout",
     "output_type": "stream",
     "text": [
      "dict_values(['44085-370', 'Avenida Artêmia Pires Freitas', 'até 10098 - lado par', '', 'SIM', 'Feira de Santana', 'BA', 'Bahia', 'Nordeste', '2910800', '', '75', '3515'])\n"
     ]
    }
   ],
   "source": [
    "print(data.values())"
   ]
  },
  {
   "cell_type": "markdown",
   "id": "d280117e-af1f-41ee-a639-9ccbfda420eb",
   "metadata": {},
   "source": [
    "### Exibe uma lista de itens"
   ]
  },
  {
   "cell_type": "code",
   "execution_count": 37,
   "id": "d45d0406-7b5d-49e1-853c-09f84cef1604",
   "metadata": {},
   "outputs": [
    {
     "name": "stdout",
     "output_type": "stream",
     "text": [
      "dict_items([('cep', '44085-370'), ('logradouro', 'Avenida Artêmia Pires Freitas'), ('complemento', 'até 10098 - lado par'), ('unidade', ''), ('bairro', 'SIM'), ('localidade', 'Feira de Santana'), ('uf', 'BA'), ('estado', 'Bahia'), ('regiao', 'Nordeste'), ('ibge', '2910800'), ('gia', ''), ('ddd', '75'), ('siafi', '3515')])\n"
     ]
    }
   ],
   "source": [
    "print(data.items())"
   ]
  },
  {
   "cell_type": "markdown",
   "id": "aa8564dd-7f8f-4845-9260-6f5c20567ae4",
   "metadata": {},
   "source": [
    "### Exibe os valores das chaves 'logradouro', 'bairro' e 'localidade'"
   ]
  },
  {
   "cell_type": "code",
   "execution_count": 28,
   "id": "29d34753-1fdf-46c5-84c2-cb35c9c9e0c1",
   "metadata": {},
   "outputs": [
    {
     "name": "stdout",
     "output_type": "stream",
     "text": [
      "BA\n"
     ]
    }
   ],
   "source": [
    "print(data['uf'])"
   ]
  }
 ],
 "metadata": {
  "kernelspec": {
   "display_name": "Python 3 (ipykernel)",
   "language": "python",
   "name": "python3"
  },
  "language_info": {
   "codemirror_mode": {
    "name": "ipython",
    "version": 3
   },
   "file_extension": ".py",
   "mimetype": "text/x-python",
   "name": "python",
   "nbconvert_exporter": "python",
   "pygments_lexer": "ipython3",
   "version": "3.12.4"
  }
 },
 "nbformat": 4,
 "nbformat_minor": 5
}
