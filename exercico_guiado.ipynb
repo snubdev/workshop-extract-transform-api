{
 "cells": [
  {
   "cell_type": "code",
   "execution_count": null,
   "id": "f1f65e5a-1ae0-48f8-83c1-911555e1b0df",
   "metadata": {},
   "outputs": [],
   "source": [
    "import requests\n",
    "import pandas as pd\n",
    "from psycopg2.extras import execute_values\n",
    "from db import get_db_config"
   ]
  },
  {
   "cell_type": "code",
   "execution_count": null,
   "id": "559e9152-b191-4615-a5db-8561a4c7eca9",
   "metadata": {},
   "outputs": [],
   "source": [
    "# -----------------------------\r",
    "# Configuração da tabela SQL\n",
    "# ----------------------------\n",
    "# CREATE TABLE dados_api(\r\n",
    "#     cidade VARCHAR(100) NOT NUL,\r\n",
    "#     bairro VARCHAR(100) NOT NLL,\r\n",
    "#     cep VARCHAR(9) NOT ULL,\r\n",
    "#     responsavel VARCHAR(100) NONULL\r\n",
    "# );"
   ]
  },
  {
   "cell_type": "code",
   "execution_count": 10,
   "id": "728cebdd-6cec-41ff-b493-2b1b3f605dee",
   "metadata": {},
   "outputs": [],
   "source": [
    "url = 'https://viacep.com.br/ws/BA/Salvador/Barra/json/'"
   ]
  },
  {
   "cell_type": "code",
   "execution_count": null,
   "id": "e9373abc-3ef0-4829-9aa0-2333db817107",
   "metadata": {},
   "outputs": [],
   "source": [
    "response = requests.get(url)"
   ]
  },
  {
   "cell_type": "code",
   "execution_count": null,
   "id": "fa16793b-76bc-40c7-b9b3-f9d072103cee",
   "metadata": {},
   "outputs": [],
   "source": [
    "df = pd.DataFrame(response.json())"
   ]
  },
  {
   "cell_type": "code",
   "execution_count": null,
   "id": "8c21e597-0ef6-4327-a510-5d8a10b4f3cc",
   "metadata": {},
   "outputs": [],
   "source": [
    "df = df.drop(columns=['complemento', 'unidade','estado','ibge', 'gia', 'ddd', 'siafi', 'uf', 'regiao', 'logradouro'])"
   ]
  },
  {
   "cell_type": "code",
   "execution_count": null,
   "id": "2720b702-0afa-42c2-8e5e-efccf189ddbc",
   "metadata": {},
   "outputs": [],
   "source": [
    "# Faz a requisição GET para a API do ViaCEP\n",
    "response = requests.get(url)"
   ]
  },
  {
   "cell_type": "code",
   "execution_count": null,
   "id": "8f6ac2fa-2232-47a7-8276-f64edc00a8fe",
   "metadata": {},
   "outputs": [],
   "source": [
    "# Converte o JSON retornado em DataFrame do pandas\n",
    "df = pd.DataFrame(response.json())"
   ]
  },
  {
   "cell_type": "code",
   "execution_count": null,
   "id": "36762aef-6833-4b75-81d8-8784c1a6cb53",
   "metadata": {},
   "outputs": [],
   "source": [
    "# Remove colunas desnecessárias do DataFrame\n",
    "df = df.drop(columns=['complemento', 'unidade','estado','ibge', 'gia', 'ddd', 'siafi', 'uf', 'regiao', 'logradouro'])"
   ]
  },
  {
   "cell_type": "code",
   "execution_count": null,
   "id": "45ee8aaf-805d-4152-ad23-58900e50bab6",
   "metadata": {},
   "outputs": [],
   "source": [
    "# Adiciona uma coluna 'responsavel' com valor fixo 'Aluno'\n",
    "df['responsavel'] = 'Aluno'"
   ]
  },
  {
   "cell_type": "code",
   "execution_count": null,
   "id": "ea2eac34-6eaf-4bb2-8d22-2b03caf21824",
   "metadata": {},
   "outputs": [],
   "source": [
    "# Converte os nomes dos bairros para letras maiúsculas\n",
    "df['bairro'] = df['bairro'].str.upper()"
   ]
  },
  {
   "cell_type": "code",
   "execution_count": null,
   "id": "959d4cfb-a853-4f21-9aec-e0cf24ea7099",
   "metadata": {},
   "outputs": [],
   "source": [
    "# Exibe os valores das colunas 'bairro' e 'localidade'\n",
    "print(df['bairro'], df['localidade'])"
   ]
  },
  {
   "cell_type": "code",
   "execution_count": null,
   "id": "ba8093a0-eaae-4584-aea9-a3cd87ff3ad5",
   "metadata": {},
   "outputs": [],
   "source": [
    "# Reorganiza as colunas para a ordem desejada antes da inserção no banco\n",
    "df = df.reindex(columns=['localidade', 'bairro', 'cep', 'responsavel'])"
   ]
  },
  {
   "cell_type": "code",
   "execution_count": null,
   "id": "c74e0121-e98a-4e9f-b64f-6a95eec0ade9",
   "metadata": {},
   "outputs": [],
   "source": [
    "# Exibe o DataFrame final que será inserido no banco\n",
    "print(df)"
   ]
  },
  {
   "cell_type": "code",
   "execution_count": null,
   "id": "c9bc01eb-5708-4f6f-b0e1-00e285a84bd0",
   "metadata": {},
   "outputs": [],
   "source": [
    "# Converte o DataFrame em uma lista de tuplas\n",
    "lista_df = df.to_records(index=False).tolist()"
   ]
  },
  {
   "cell_type": "code",
   "execution_count": null,
   "id": "cf047bd4-70e0-4002-b666-aaf332a404d8",
   "metadata": {},
   "outputs": [],
   "source": [
    "con = get_db_config()\n",
    "cur = con.cursor()\n",
    "\n",
    "try:\n",
    "    query = '''\n",
    "    INSERT INTO dados_api_exercicio (cidade, bairro, cep, responsavel)\n",
    "    VALUES %s\n",
    "    '''\n",
    "\n",
    "    # Insere os dados em lote\n",
    "    execute_values(cur, query, lsita_df)\n",
    "\n",
    "    con.commit()\n",
    "    cur.close()\n",
    "    con.close()\n",
    "\n",
    "except Exception as e:\n",
    "    print(e)\n"
   ]
  }
 ],
 "metadata": {
  "kernelspec": {
   "display_name": "Python 3 (ipykernel)",
   "language": "python",
   "name": "python3"
  },
  "language_info": {
   "codemirror_mode": {
    "name": "ipython",
    "version": 3
   },
   "file_extension": ".py",
   "mimetype": "text/x-python",
   "name": "python",
   "nbconvert_exporter": "python",
   "pygments_lexer": "ipython3",
   "version": "3.12.4"
  }
 },
 "nbformat": 4,
 "nbformat_minor": 5
}
